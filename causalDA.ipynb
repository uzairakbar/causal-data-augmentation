{
  "cells": [
    {
      "cell_type": "markdown",
      "metadata": {
        "id": "t0EzIZyd-UvF"
      },
      "source": [
        "# Causal Data Augmentation\n",
        "> Implementation for *\"An Analysis of Causal Effect Estimation using Outcome Invariant Data Augmentation\"* (NeurIPS 2025).\n",
        "\n",
        "<p align=\"center\">\n",
        "    <img src=\"https://repository-images.githubusercontent.com/555395031/442c67c5-a047-42cf-96a8-1ad7d8587afa\"\n",
        "    alt=\"Symmetry as Intervention\"\n",
        "    width=\"42%\">\n",
        "</p>\n",
        "<p align=\"center\"><i>Symmetry as Intervention; Causal Estimation with Data Augmentation</i></p>\n",
        "<p align=\"center\">\n",
        "  <a href=\"https://arxiv.org/abs/2510.25128\"><img src=\"https://img.shields.io/badge/arXiv-2510.25128-B31B1B.svg?logo\" /></a>\n",
        "  <a href=\"https://neurips.cc/virtual/2025/poster/119327\"><img src=\"https://img.shields.io/badge/html-%20neurips.cc-8c5cff.svg\"></a>\n",
        "  <a href=\"https://uzairakbar.github.io/causal-data-augmentation\"><img src=\"https://img.shields.io/badge/WEB-page-0eb077.svg\"></a>\n",
        "  <a href=\"https://github.com/uzairakbar/causal-data-augmentation\">\n",
        "  <img src=\"https://img.shields.io/badge/uzairakbar-causal--data--augmentation-black?logo=github\" alt=\"GitHub repository\"></a>\n",
        "</p>\n",
        "\n",
        "## Contents\n",
        "- [Setup](#setup)\n",
        "- [Linear Experiment](#linear-experiment)\n",
        "- [Optical Device Experiment](#optical-device-experiment)\n",
        "- [Colored MNIST Experiment](#colored-mnist-experiment)\n",
        "- [Citation](#citation)"
      ]
    },
    {
      "cell_type": "markdown",
      "metadata": {
        "id": "vezk1dw0A7CQ"
      },
      "source": [
        "## Setup"
      ]
    },
    {
      "cell_type": "code",
      "execution_count": null,
      "metadata": {
        "id": "YtR9MxtzaBQx"
      },
      "outputs": [],
      "source": [
        "%%capture\n",
        "\n",
        "# install dependencies and clone repository\n",
        "!pip install -qq \\\n",
        "    enlighten \\\n",
        "    loguru \\\n",
        "    munch\n",
        "!sudo apt install -qq \\\n",
        "    cm-super dvipng \\\n",
        "    texlive-latex-extra \\\n",
        "    texlive-latex-recommended\n",
        "!git clone -b colab https://github.com/uzairakbar/causal-data-augmentation.git\n",
        "\n",
        "# navigate to the repository directory\n",
        "%cd causal-data-augmentation"
      ]
    },
    {
      "cell_type": "code",
      "execution_count": null,
      "metadata": {
        "id": "wZfBDD4D1Pe2"
      },
      "outputs": [],
      "source": [
        "import yaml\n",
        "from munch import munchify\n",
        "\n",
        "\n",
        "# load the experiment config file.\n",
        "# NOTE: we are using a demo file here.\n",
        "# change to `config.yaml` for full results.\n",
        "with open('demo_config.yaml', 'r') as file:\n",
        "    config = yaml.safe_load(file)\n",
        "config = munchify(config)"
      ]
    },
    {
      "cell_type": "markdown",
      "metadata": {
        "id": "Lh_ERZ--BLHd"
      },
      "source": [
        "## Linear Experiment"
      ]
    },
    {
      "cell_type": "code",
      "execution_count": null,
      "metadata": {
        "id": "Q8H04Mnl0I8x"
      },
      "outputs": [],
      "source": [
        "from loguru import logger\n",
        "\n",
        "from src.experiments.simulation import (\n",
        "    linear as linear_simulation,\n",
        ")\n",
        "\n",
        "\n",
        "if 'linear_simulation' in config:\n",
        "    logger.info('Running linear simulation experiment.')\n",
        "    linear_simulation.run(\n",
        "        **config.linear_simulation,\n",
        "        hyperparameters=config.hyperparameters\n",
        "    )"
      ]
    },
    {
      "cell_type": "code",
      "execution_count": null,
      "metadata": {
        "id": "yh9o6m-Y321a"
      },
      "outputs": [],
      "source": [
        "# @title confounding strength vs. estimation error\n",
        "from src.experiments.utils import (\n",
        "    load,\n",
        "    sweep_plot,\n",
        "    ANNOTATE_SWEEP_PLOT,\n",
        ")\n",
        "\n",
        "\n",
        "kappa_values = load(\n",
        "    'artifacts/linear_simulation/kappa_values.pkl'\n",
        ")\n",
        "kappa_results = load(\n",
        "    'artifacts/linear_simulation/kappa_results.pkl'\n",
        ")\n",
        "\n",
        "sweep_plot(\n",
        "    kappa_values, kappa_results, **ANNOTATE_SWEEP_PLOT['kappa']\n",
        ")"
      ]
    },
    {
      "cell_type": "code",
      "execution_count": null,
      "metadata": {
        "id": "nAFV6JY38eXN"
      },
      "outputs": [],
      "source": [
        "# @title regularization strength vs. estimation error\n",
        "alpha_values = load(\n",
        "    'artifacts/linear_simulation/alpha_values.pkl'\n",
        ")\n",
        "alpha_results = load(\n",
        "    'artifacts/linear_simulation/alpha_results.pkl'\n",
        ")\n",
        "\n",
        "sweep_plot(\n",
        "    alpha_values, alpha_results, **ANNOTATE_SWEEP_PLOT['alpha']\n",
        ")"
      ]
    },
    {
      "cell_type": "code",
      "execution_count": null,
      "metadata": {
        "id": "3i2FbHun8m4c"
      },
      "outputs": [],
      "source": [
        "# @title augmentation strength vs. estimation error\n",
        "gamma_values = load(\n",
        "    'artifacts/linear_simulation/gamma_values.pkl'\n",
        ")\n",
        "gamma_results = load(\n",
        "    'artifacts/linear_simulation/gamma_results.pkl'\n",
        ")\n",
        "\n",
        "sweep_plot(\n",
        "    gamma_values, gamma_results, **ANNOTATE_SWEEP_PLOT['gamma']\n",
        ")"
      ]
    },
    {
      "cell_type": "code",
      "execution_count": null,
      "metadata": {
        "id": "k2-DACEb87c8"
      },
      "outputs": [],
      "source": [
        "# @title comparison with baselines\n",
        "from src.experiments.utils import (\n",
        "    load,\n",
        "    box_plot,\n",
        "    ANNOTATE_BOX_PLOT,\n",
        ")\n",
        "\n",
        "\n",
        "baseline_results = load(\n",
        "    'artifacts/linear_simulation/linear_simulation.pkl'\n",
        ")\n",
        "\n",
        "box_plot(\n",
        "    baseline_results,\n",
        "    fname='linear_simulation',\n",
        "    experiment='linear_simulation',\n",
        "    savefig=True, **ANNOTATE_BOX_PLOT['linear_simulation'],\n",
        ")"
      ]
    },
    {
      "cell_type": "markdown",
      "metadata": {},
      "source": [
        "**Note:** Use these configs for linear sim. baseline comparison results in the paper:\n",
        "```yaml\n",
        "# config.yaml\n",
        "kernel_dim:     0\n",
        "n_experiments:  16\n",
        "```\n",
        "```python\n",
        "# src/sem/simulation/linear.py\n",
        "COVARIATE_DIMENSION: int=16\n",
        "```"
      ]
    },
    {
      "cell_type": "markdown",
      "metadata": {
        "id": "ZFkA9EaTBadp"
      },
      "source": [
        "## Optical Device Experiment"
      ]
    },
    {
      "cell_type": "code",
      "execution_count": null,
      "metadata": {
        "id": "BMJIfhRn0ZNK"
      },
      "outputs": [],
      "source": [
        "from src.experiments.real import (\n",
        "    optical_device as optical_device_experiment,\n",
        ")\n",
        "\n",
        "if 'optical_device' in config:\n",
        "    logger.info('Running optical device experiment.')\n",
        "    optical_device_experiment.run(\n",
        "        **config.optical_device,\n",
        "        hyperparameters=config.hyperparameters,\n",
        "    )"
      ]
    },
    {
      "cell_type": "code",
      "execution_count": null,
      "metadata": {
        "id": "tpF4Afqi9z4J"
      },
      "outputs": [],
      "source": [
        "baseline_results = load(\n",
        "    'artifacts/optical_device/optical_device.pkl'\n",
        ")\n",
        "\n",
        "box_plot(\n",
        "    baseline_results,\n",
        "    fname='optical_device',\n",
        "    experiment='optical_device',\n",
        "    savefig=True, **ANNOTATE_BOX_PLOT['optical_device'],\n",
        ")"
      ]
    },
    {
      "cell_type": "markdown",
      "metadata": {
        "id": "-cRpMUv7BdsQ"
      },
      "source": [
        "## Colored MNIST Experiment"
      ]
    },
    {
      "cell_type": "code",
      "execution_count": null,
      "metadata": {
        "id": "YU6qRZPX1EJs"
      },
      "outputs": [],
      "source": [
        "from src.experiments.real import (\n",
        "    cmnist as colored_mnist_experiment,\n",
        ")\n",
        "\n",
        "if 'colored_mnist' in config:\n",
        "    logger.info('Running colored MNIST experiment.')\n",
        "    colored_mnist_experiment.run(\n",
        "        **config.colored_mnist,\n",
        "        hyperparameters=config.hyperparameters,\n",
        "    )"
      ]
    },
    {
      "cell_type": "code",
      "execution_count": null,
      "metadata": {
        "id": "26XpdOtz96qz"
      },
      "outputs": [],
      "source": [
        "baseline_results = load(\n",
        "    'artifacts/colored_mnist/colored_mnist.pkl'\n",
        ")\n",
        "\n",
        "box_plot(\n",
        "    baseline_results,\n",
        "    fname='colored_mnist',\n",
        "    experiment='colored_mnist',\n",
        "    savefig=True, **ANNOTATE_BOX_PLOT['colored_mnist'],\n",
        ")"
      ]
    },
    {
      "cell_type": "markdown",
      "metadata": {
        "id": "gMqWV2zmBgjb"
      },
      "source": [
        "## Citation\n",
        "Please cite our paper if you use this code in your work:\n",
        "```bibtex\n",
        "@misc{akbar2025causalDataAugmentation,\n",
        "      title={An Analysis of Causal Effect Estimation using Outcome Invariant Data Augmentation},\n",
        "      author={Uzair Akbar and Niki Kilbertus and Hao Shen and Krikamol Muandet and Bo Dai},\n",
        "      year={2025},\n",
        "      eprint={2510.25128},\n",
        "      archivePrefix={arXiv},\n",
        "      primaryClass={cs.LG},\n",
        "      url={https://arxiv.org/abs/2510.25128},\n",
        "}\n",
        "```"
      ]
    }
  ],
  "metadata": {
    "colab": {
      "provenance": []
    },
    "kernelspec": {
      "display_name": "Python 3",
      "name": "python3"
    },
    "language_info": {
      "name": "python"
    }
  },
  "nbformat": 4,
  "nbformat_minor": 0
}
