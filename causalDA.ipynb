{
  "nbformat": 4,
  "nbformat_minor": 0,
  "metadata": {
    "colab": {
      "provenance": []
    },
    "kernelspec": {
      "name": "python3",
      "display_name": "Python 3"
    },
    "language_info": {
      "name": "python"
    }
  },
  "cells": [
    {
      "cell_type": "markdown",
      "source": [
        "# Causal Data Augmentation\n",
        "> Implementation for *\"An Analysis of Causal Effect Estimation using Outcome Invariant Data Augmentation\"* (NeurIPS 2025).\n",
        "\n",
        "<p align=\"center\">\n",
        "    <img src=\"https://repository-images.githubusercontent.com/555395031/442c67c5-a047-42cf-96a8-1ad7d8587afa\"\n",
        "    alt=\"Symmetry as Intervention\"\n",
        "    width=\"42%\">\n",
        "</p>\n",
        "<p align=\"center\"><i>Symmetry as Intervention; Causal Estimation with Data Augmentation</i></p>\n",
        "<p align=\"center\">\n",
        "  <a href=\"https://arxiv.org/abs/2510.25128\"><img src=\"https://img.shields.io/badge/arXiv-2510.25128-B31B1B.svg?logo\" /></a>\n",
        "  <a href=\"https://neurips.cc/virtual/2025/poster/119327\"><img src=\"https://img.shields.io/badge/html-%20neurips.cc-8c5cff.svg\"></a>\n",
        "  <a href=\"https://uzairakbar.github.io/causal-data-augmentation\"><img src=\"https://img.shields.io/badge/WEB-page-0eb077.svg\"></a>\n",
        "  <a href=\"https://github.com/uzairakbar/causal-data-augmentation\">\n",
        "  <img src=\"https://img.shields.io/badge/uzairakbar-causal--data--augmentation-black?logo=github\" alt=\"GitHub repository\"></a>\n",
        "</p>\n",
        "\n",
        "## Contents\n",
        "- [Setup](#setup)\n",
        "- [Linear Experiment](#linear-experiment)\n",
        "- [Optical Device Experiment](#optical-device-experiment)\n",
        "- [Colored MNIST Experiment](#colored-mnist-experiment)\n",
        "- [Citation](#citation)"
      ],
      "metadata": {
        "id": "t0EzIZyd-UvF"
      }
    },
    {
      "cell_type": "markdown",
      "source": [
        "## Setup"
      ],
      "metadata": {
        "id": "vezk1dw0A7CQ"
      }
    },
    {
      "cell_type": "code",
      "source": [
        "# install dependencies and clone repository.\n",
        "!pip install -qq \\\n",
        "    enlighten \\\n",
        "    loguru \\\n",
        "    munch\n",
        "!sudo apt install -qq \\\n",
        "    cm-super dvipng \\\n",
        "    texlive-latex-extra \\\n",
        "    texlive-latex-recommended\n",
        "!git clone -b colab https://github.com/uzairakbar/causal-data-augmentation.git\n",
        "\n",
        "# navigate to the repository directory\n",
        "%cd causal-data-augmentation"
      ],
      "metadata": {
        "id": "YtR9MxtzaBQx"
      },
      "execution_count": null,
      "outputs": []
    },
    {
      "cell_type": "code",
      "source": [
        "import yaml\n",
        "from munch import munchify\n",
        "\n",
        "\n",
        "# load the experiment config file\n",
        "# NOTE: we are using a demo file here.\n",
        "# change to `config.yaml` for full results.\n",
        "with open('demo_config.yaml', 'r') as file:\n",
        "    config = yaml.safe_load(file)\n",
        "config = munchify(config)"
      ],
      "metadata": {
        "id": "wZfBDD4D1Pe2"
      },
      "execution_count": null,
      "outputs": []
    },
    {
      "cell_type": "markdown",
      "source": [
        "## Linear Experiment"
      ],
      "metadata": {
        "id": "Lh_ERZ--BLHd"
      }
    },
    {
      "cell_type": "code",
      "source": [
        "from loguru import logger\n",
        "\n",
        "from src.experiments.simulation import (\n",
        "    linear as linear_simulation,\n",
        ")\n",
        "\n",
        "\n",
        "if 'linear_simulation' in config:\n",
        "    logger.info('Running linear simulation experiment.')\n",
        "    linear_simulation.run(\n",
        "        **config.linear_simulation,\n",
        "        hyperparameters=config.hyperparameters\n",
        "    )"
      ],
      "metadata": {
        "id": "Q8H04Mnl0I8x"
      },
      "execution_count": null,
      "outputs": []
    },
    {
      "cell_type": "code",
      "source": [
        "from src.experiments.utils import (\n",
        "    load,\n",
        "    sweep_plot,\n",
        "    ANNOTATE_SWEEP_PLOT,\n",
        ")\n",
        "\n",
        "\n",
        "kappa_values = load(\n",
        "    'artifacts/linear_simulation/kappa_values.pkl'\n",
        ")\n",
        "kappa_results = load(\n",
        "    'artifacts/linear_simulation/kappa_results.pkl'\n",
        ")\n",
        "\n",
        "sweep_plot(\n",
        "    kappa_values, kappa_results, **ANNOTATE_SWEEP_PLOT['kappa']\n",
        ")"
      ],
      "metadata": {
        "id": "yh9o6m-Y321a"
      },
      "execution_count": null,
      "outputs": []
    },
    {
      "cell_type": "code",
      "source": [
        "alpha_values = load(\n",
        "    'artifacts/linear_simulation/alpha_values.pkl'\n",
        ")\n",
        "alpha_results = load(\n",
        "    'artifacts/linear_simulation/alpha_results.pkl'\n",
        ")\n",
        "\n",
        "sweep_plot(\n",
        "    alpha_values, alpha_results, **ANNOTATE_SWEEP_PLOT['alpha']\n",
        ")"
      ],
      "metadata": {
        "id": "nAFV6JY38eXN"
      },
      "execution_count": null,
      "outputs": []
    },
    {
      "cell_type": "code",
      "source": [
        "gamma_values = load(\n",
        "    'artifacts/linear_simulation/gamma_values.pkl'\n",
        ")\n",
        "gamma_results = load(\n",
        "    'artifacts/linear_simulation/gamma_results.pkl'\n",
        ")\n",
        "\n",
        "sweep_plot(\n",
        "    gamma_values, gamma_results, **ANNOTATE_SWEEP_PLOT['gamma']\n",
        ")"
      ],
      "metadata": {
        "id": "3i2FbHun8m4c"
      },
      "execution_count": null,
      "outputs": []
    },
    {
      "cell_type": "code",
      "source": [
        "from src.experiments.utils import (\n",
        "    load,\n",
        "    box_plot,\n",
        "    ANNOTATE_BOX_PLOT,\n",
        ")\n",
        "\n",
        "\n",
        "baseline_results = load(\n",
        "    'artifacts/linear_simulation/linear_simulation.pkl'\n",
        ")\n",
        "\n",
        "box_plot(\n",
        "    baseline_results,\n",
        "    fname='linear_simulation',\n",
        "    experiment='linear_simulation',\n",
        "    savefig=True, **ANNOTATE_BOX_PLOT['linear_simulation'],\n",
        ")"
      ],
      "metadata": {
        "id": "k2-DACEb87c8"
      },
      "execution_count": null,
      "outputs": []
    },
    {
      "cell_type": "markdown",
      "source": [
        "## Optical Device Experiment"
      ],
      "metadata": {
        "id": "ZFkA9EaTBadp"
      }
    },
    {
      "cell_type": "code",
      "source": [
        "from src.experiments.real import (\n",
        "    optical_device as optical_device_experiment,\n",
        ")\n",
        "\n",
        "if 'optical_device' in config:\n",
        "    logger.info('Running optical device experiment.')\n",
        "    optical_device_experiment.run(\n",
        "        **config.optical_device,\n",
        "        hyperparameters=config.hyperparameters,\n",
        "    )"
      ],
      "metadata": {
        "id": "BMJIfhRn0ZNK"
      },
      "execution_count": null,
      "outputs": []
    },
    {
      "cell_type": "code",
      "source": [
        "baseline_results = load(\n",
        "    'artifacts/optical_device/optical_device.pkl'\n",
        ")\n",
        "\n",
        "box_plot(\n",
        "    baseline_results,\n",
        "    fname='optical_device',\n",
        "    experiment='optical_device',\n",
        "    savefig=True, **ANNOTATE_BOX_PLOT['optical_device'],\n",
        ")"
      ],
      "metadata": {
        "id": "tpF4Afqi9z4J"
      },
      "execution_count": null,
      "outputs": []
    },
    {
      "cell_type": "markdown",
      "source": [
        "## Colored MNIST Experiment"
      ],
      "metadata": {
        "id": "-cRpMUv7BdsQ"
      }
    },
    {
      "cell_type": "code",
      "source": [
        "from src.experiments.real import (\n",
        "    cmnist as colored_mnist_experiment,\n",
        ")\n",
        "\n",
        "if 'colored_mnist' in config:\n",
        "    logger.info('Running colored MNIST experiment.')\n",
        "    colored_mnist_experiment.run(\n",
        "        **config.colored_mnist,\n",
        "        hyperparameters=config.hyperparameters,\n",
        "    )"
      ],
      "metadata": {
        "id": "YU6qRZPX1EJs"
      },
      "execution_count": null,
      "outputs": []
    },
    {
      "cell_type": "code",
      "source": [
        "baseline_results = load(\n",
        "    'artifacts/colored_mnist/colored_mnist.pkl'\n",
        ")\n",
        "\n",
        "box_plot(\n",
        "    baseline_results,\n",
        "    fname='colored_mnist',\n",
        "    experiment='colored_mnist',\n",
        "    savefig=True, **ANNOTATE_BOX_PLOT['colored_mnist'],\n",
        ")"
      ],
      "metadata": {
        "id": "26XpdOtz96qz"
      },
      "execution_count": null,
      "outputs": []
    },
    {
      "cell_type": "markdown",
      "source": [
        "## Citation\n",
        "Please cite our paper if you use this code in your work:\n",
        "```bibtex\n",
        "@misc{akbar2025causalDataAugmentation,\n",
        "      title={An Analysis of Causal Effect Estimation using Outcome Invariant Data Augmentation},\n",
        "      author={Uzair Akbar and Niki Kilbertus and Hao Shen and Krikamol Muandet and Bo Dai},\n",
        "      year={2025},\n",
        "      eprint={2510.25128},\n",
        "      archivePrefix={arXiv},\n",
        "      primaryClass={cs.LG},\n",
        "      url={https://arxiv.org/abs/2510.25128},\n",
        "}\n",
        "```"
      ],
      "metadata": {
        "id": "gMqWV2zmBgjb"
      }
    }
  ]
}